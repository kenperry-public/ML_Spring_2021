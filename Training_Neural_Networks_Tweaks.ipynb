{
 "cells": [
  {
   "cell_type": "code",
   "execution_count": 1,
   "metadata": {
    "slideshow": {
     "slide_type": "notes"
    }
   },
   "outputs": [
    {
     "data": {
      "text/latex": [
       "$$\n",
       "\\newcommand{\\x}{\\mathbf{x}}\n",
       "\\newcommand{\\tx}{\\tilde{\\x}}\n",
       "\\newcommand{\\y}{\\mathbf{y}}\n",
       "\\newcommand{\\b}{\\mathbf{b}}\n",
       "\\newcommand{\\c}{\\mathbf{c}}\n",
       "\\newcommand{\\e}{\\mathbf{e}}\n",
       "\\newcommand{\\z}{\\mathbf{z}}\n",
       "\\newcommand{\\h}{\\mathbf{h}}\n",
       "\\newcommand{\\u}{\\mathbf{u}}\n",
       "\\newcommand{\\v}{\\mathbf{v}}\n",
       "\\newcommand{\\w}{\\mathbf{w}}\n",
       "\\newcommand{\\W}{\\mathbf{W}}\n",
       "\\newcommand{\\X}{\\mathbf{X}}\n",
       "\\newcommand{\\KL}{\\mathbf{KL}}\n",
       "\\newcommand{\\E}{{\\mathbb{E}}}\n",
       "\\newcommand{\\ip}{\\mathbf{{(i)}}}\n",
       "%\n",
       "% Test set\n",
       "\\newcommand{\\xt}{\\underline{\\x}}\n",
       "\\newcommand{\\yt}{\\underline{\\y}}\n",
       "\\newcommand{\\Xt}{\\underline{\\X}}\n",
       "\\newcommand{\\perfm}{\\mathcal{P}}\n",
       "%\n",
       "% \\ll indexes a layer; we can change the actual letter\n",
       "\\newcommand{\\ll}{l}\n",
       "\\newcommand{\\llp}{{(\\ll)}}\n",
       "%\n",
       "\\newcommand{Thetam}{\\Theta_{-0}}\n",
       "\n",
       "% CNN\n",
       "\\newcommand{\\kernel}{\\mathbf{k}} \n",
       "\\newcommand{\\dim}{d}\n",
       "%\n",
       "%\n",
       "% \\tt indexes a time step\n",
       "\\newcommand{\\tt}{t}\n",
       "\\newcommand{\\tp}{{(\\tt)}}\n",
       "%\n",
       "\\newcommand{\\loss}{\\mathcal{L}}\n",
       "\\newcommand{\\cost}{\\mathcal{L}}\n",
       "%\n",
       "%                     \n",
       "\\newcommand{\\pdata}{p_\\text{data}}\n",
       "\\newcommand{\\pmodel}{p_\\text{model}}\n",
       "%\n",
       "% SVM\n",
       "\\newcommand{\\margin}{{\\mathbb{m}}}\n",
       "\\newcommand{\\lmk}{\\boldsymbol{\\ell}}\n",
       "%\n",
       "% Functions with arguments\n",
       "\\def\\xsy#1#2{#1^#2}\n",
       "\\def\\rand#1{\\tilde{#1}}\n",
       "\\def\\randx{\\rand{\\x}}\n",
       "\\def\\randy{\\rand{\\y}}\n",
       "\\def\\trans#1{\\dot{#1}}\n",
       "\\def\\transx{\\trans{\\x}}\n",
       "\\def\\transy{\\trans{\\y}}\n",
       "%\n",
       "\\def\\argmax#1{\\underset{#1} {\\operatorname{argmax}} }\n",
       "\\def\\argmin#1{\\underset{#1} {\\operatorname{argmin}} }\n",
       "\\def\\max#1{\\underset{#1} {\\operatorname{max}} }\n",
       "\\def\\min#1{\\underset{#1} {\\operatorname{min}} }\n",
       "%\n",
       "\\def\\pr#1{\\mathcal{p}(#1)}\n",
       "\\def\\prc#1#2{\\mathcal{p}(#1 \\; | \\; #2)}\n",
       "\\def\\cnt#1{\\mathcal{count}_{#1}}\n",
       "\\def\\node#1{\\mathbb{#1}}\n",
       "%\n",
       "\\newcommand{\\floor}[1]{\\left\\lfloor #1 \\right\\rfloor}\n",
       "\\newcommand{\\ceil}[1]{\\left\\lceil #1 \\right\\rceil}\n",
       "%\n",
       "\\def\\loc#1{{\\text{##} {#1}}}\n",
       "%\n",
       "$$\n"
      ],
      "text/plain": [
       "<IPython.core.display.Latex object>"
      ]
     },
     "metadata": {},
     "output_type": "display_data"
    }
   ],
   "source": [
    "%run Latex_macros.ipynb"
   ]
  },
  {
   "cell_type": "code",
   "execution_count": 2,
   "metadata": {
    "slideshow": {
     "slide_type": "notes"
    }
   },
   "outputs": [],
   "source": [
    "# My standard magic !  You will see this in almost all my notebooks.\n",
    "\n",
    "from IPython.core.interactiveshell import InteractiveShell\n",
    "InteractiveShell.ast_node_interactivity = \"all\"\n",
    "\n",
    "# Reload all modules imported with %aimport\n",
    "%load_ext autoreload\n",
    "%autoreload 1\n",
    "\n",
    "%matplotlib inline"
   ]
  },
  {
   "cell_type": "code",
   "execution_count": 3,
   "metadata": {
    "slideshow": {
     "slide_type": "notes"
    }
   },
   "outputs": [],
   "source": [
    "%run beautify_plots.py"
   ]
  },
  {
   "cell_type": "code",
   "execution_count": 4,
   "metadata": {
    "slideshow": {
     "slide_type": "notes"
    }
   },
   "outputs": [],
   "source": [
    "import numpy as np\n",
    "import pandas as pd\n",
    "import matplotlib.pyplot as plt\n",
    "\n",
    "import neural_net_helper\n",
    "%aimport neural_net_helper\n",
    "\n",
    "nnh = neural_net_helper.NN_Helper()"
   ]
  },
  {
   "cell_type": "markdown",
   "metadata": {
    "slideshow": {
     "slide_type": "slide"
    }
   },
   "source": [
    "# Learning rate schedules\n",
    "\n",
    "In addition to smarter optimizers, we can control learning rates by changing them across epochs of\n",
    "training.\n",
    "\n",
    "This is very much of an art rather than a science.\n",
    "\n",
    "We give a brief overview."
   ]
  },
  {
   "cell_type": "markdown",
   "metadata": {
    "slideshow": {
     "slide_type": "subslide"
    }
   },
   "source": [
    "## Warm up\n",
    "[Bag of Tricks for Image Classification using CNNs](https://arxiv.org/abs/1812.01187)\n",
    "\n",
    "- When training starts: initial values of $\\W$ far optimal values\n",
    "- At this point, losses (and gradients) are probably large\n",
    "    - large updates to $\\W$ might cause instability\n",
    "\n",
    "So, we can start off \"slow\" with a low initial rate during a *warm-up period*.\n",
    "- low learning rate compensates for high gradient\n",
    "\n",
    "Post the warm-up, we can use a higher rate to speed training."
   ]
  },
  {
   "cell_type": "markdown",
   "metadata": {
    "slideshow": {
     "slide_type": "subslide"
    }
   },
   "source": [
    "## Post warm-up\n",
    "\n",
    "Typical strategy has been to decrease learning rate as the number of epochs increase.\n",
    "\n",
    "Idea is to take smaller steps as we approach the region of optimality\n",
    "- don't want to overshoot\n",
    "\n",
    "There are many ways to set a learning rate schedule (a function that maps epoch number to a rate)"
   ]
  },
  {
   "cell_type": "markdown",
   "metadata": {
    "slideshow": {
     "slide_type": "subslide"
    }
   },
   "source": [
    "- step schedule\n",
    "    - vary rate by epoch\n",
    "    - rate decreases as epoch increases\n",
    "- cosine decay\n",
    "    - decrease rate according to a cosine function\n",
    "        - $\\text{learning_rate}_{t} = {1\\over{2}} \\left( 1 + \\cos(  \\pi{{t}\\over{T}} ) \\right)  * \\text{learning_rate}_{0} $\n",
    "            - where $\\text{learning_rate}_{0}$ is initial learning rate, $T$ is number of batches\n",
    "        - slow decrease in rate at start\n",
    "        - near-linear decrease in middle\n",
    "        - slow decrease near end"
   ]
  },
  {
   "cell_type": "code",
   "execution_count": 5,
   "metadata": {
    "slideshow": {
     "slide_type": "slide"
    }
   },
   "outputs": [
    {
     "data": {
      "image/png": "[encoded data removed]",
      "text/plain": [
       "<Figure size 720x288 with 1 Axes>"
      ]
     },
     "metadata": {
      "needs_background": "light"
     },
     "output_type": "display_data"
    }
   ],
   "source": [
    "_= nnh.plot_cosine_lr()"
   ]
  },
  {
   "cell_type": "markdown",
   "metadata": {
    "slideshow": {
     "slide_type": "slide"
    }
   },
   "source": [
    "# Regularization\n",
    "\n",
    "The ultimate goal of Machine Learning is out of sample prediction.\n",
    "\n",
    "Because Neural Networks often learn a large number of parameters (weights), overfitting is a concern.\n",
    "\n",
    "We will briefly review several methods to combat overfitting"
   ]
  },
  {
   "cell_type": "markdown",
   "metadata": {
    "slideshow": {
     "slide_type": "subslide"
    }
   },
   "source": [
    "## Loss function: add regularization penalty\n",
    "\n",
    "The same methods that were applicable in Classical Machine Learning apply to Deep Learning as well.\n",
    "\n",
    "These include regularization penalties that aim to reduce the number of parameters.\n",
    "- L2 regularization\n",
    "- L1 regularization"
   ]
  },
  {
   "cell_type": "markdown",
   "metadata": {
    "slideshow": {
     "slide_type": "slide"
    }
   },
   "source": [
    "## Dropout\n",
    "\n",
    "[Droput paper](http://www.jmlr.org/papers/volume15/srivastava14a/srivastava14a.pdf)\n",
    "\n",
    "Overfitting can occur because some weights in the NN adapt so as to memorize \"noisy\" features.\n",
    "\n",
    "*Dropout* is a method that *randomly drops a unit in the NN*\n",
    "- For each training example $\\x^\\ip$\n",
    "- Each unit gets dropped with probability $p$\n",
    " \n"
   ]
  },
  {
   "cell_type": "markdown",
   "metadata": {
    "slideshow": {
     "slide_type": "subslide"
    }
   },
   "source": [
    "<table>\n",
    "    <tr>\n",
    "        <th><center>NN, no dropout</center></th>\n",
    "    </tr>\n",
    "    <tr>\n",
    "        <td><img src=\"images/Dropout_NN_wo_dropout.png\"</td>\n",
    "    </tr>\n"
   ]
  },
  {
   "cell_type": "markdown",
   "metadata": {
    "slideshow": {
     "slide_type": "subslide"
    }
   },
   "source": [
    "<table>\n",
    "    <tr>\n",
    "        <th><center>NN, 50% dropout</center></th>\n",
    "    </tr>\n",
    "    <tr>\n",
    "        <td><img src=\"images/Dropout_NN_w_dropout.png\"></td>\n",
    "    </tr>\n"
   ]
  },
  {
   "cell_type": "markdown",
   "metadata": {
    "slideshow": {
     "slide_type": "subslide"
    }
   },
   "source": [
    "A Neural Network with $N$ units contains $2^N$ possible sub-networks.\n",
    "\n",
    "Dropout can be viewed as training many of these sub-networks (with weights shared by sub-networks.)\n",
    "\n",
    "If a feature is truly important, the NN must adapt to robustly recognize the feature.\n",
    "\n",
    "If it is not important, the goal is to prevent a unit from memorizing it."
   ]
  },
  {
   "cell_type": "markdown",
   "metadata": {
    "slideshow": {
     "slide_type": "subslide"
    }
   },
   "source": [
    "In Keras, Dropout is implemented by a layer:\n",
    "\n",
    "`Dropout(rate)`\n",
    "\n",
    "where `rate` is the probability of dropping a unit.\n",
    "\n",
    "Dropout has been supplanted by Batch Normalization, but is worth studying \n",
    "- for its simplicity and ease of use\n",
    "- inspiration it offers.\n"
   ]
  },
  {
   "cell_type": "markdown",
   "metadata": {
    "slideshow": {
     "slide_type": "slide"
    }
   },
   "source": [
    "## Data Augmentation \n",
    "\n",
    "It is sometimes possible to expand the training set in such a way as to discourage overfitting.\n",
    "\n",
    "This usually involves \n",
    "creating variants of training examples\n",
    "- make it hard to memorize them all."
   ]
  },
  {
   "cell_type": "markdown",
   "metadata": {
    "slideshow": {
     "slide_type": "subslide"
    }
   },
   "source": [
    "### Input Transformation\n",
    "\n",
    "Alter the image while preserving its label.\n",
    "\n",
    "- Image transformation\n",
    "    - rotate, crop, flip"
   ]
  },
  {
   "cell_type": "markdown",
   "metadata": {
    "slideshow": {
     "slide_type": "subslide"
    }
   },
   "source": [
    "### Label smoothing\" reducing prediction confidence\n",
    "\n",
    "[Label Smoothing paper](https://arxiv.org/pdf/1701.06548.pdf)\n",
    "\n",
    "Recall our discussion about the difference between Cross Entropy and Hinge Loss\n",
    "- Hinge Loss \"stops trying\" to improve parameters when they are just \"good enough\" to yield a correct prediction\n",
    "- Cross Entropy: tries to improve probability to exactly $0$ or $1$\n",
    "\n",
    "Cross Entropy's relentless search for improvement may lead to poor out of sample generalization."
   ]
  },
  {
   "cell_type": "markdown",
   "metadata": {
    "slideshow": {
     "slide_type": "subslide"
    }
   },
   "source": [
    "A class of solutions exists to discourage the NN from seeking absolute confidence in its prediction.\n",
    "\n",
    "*Label Smoothing* changes binary targets to values that are only approximately $0$ or $1$.\n",
    "\n",
    "| Example | Smoothed label\n",
    "| :- | -----\n",
    "| $(\\x^\\ip, 0)$ | $(\\x^\\ip, 0 + \\epsilon)$\n",
    "| $(\\x^\\ip, 1)$ | $(\\x^\\ip, 1 - \\epsilon)$\n",
    "\n",
    "\n",
    "So rather than using One Hot Encoding (OHE), we use \"$\\epsilon$ Hot Encoding\""
   ]
  },
  {
   "cell_type": "markdown",
   "metadata": {
    "slideshow": {
     "slide_type": "subslide"
    }
   },
   "source": [
    "## Mixup training\n",
    "[Mixup training paper](https://arxiv.org/abs/1905.11001)\n",
    "\n",
    "*Mixup training* is a second solution to prevent an NN from seeking absolute confidence.\n",
    "\n",
    "It creates additional training examples that are *mixtures* of existing examples:\n",
    "\n",
    "\n",
    "| &nbsp; &nbsp; &nbsp; &nbsp; Training example &nbsp; &nbsp; &nbsp; &nbsp; &nbsp;         | Mixup ? \n",
    "|:--- | :--- \n",
    "| $(\\x^\\ip, \\y^\\ip)$ &nbsp; &nbsp; &nbsp;  &nbsp; | original\n",
    "| $(\\x^{(\\mathbf{i}')}, \\y^{(\\mathbf{i}')})$ &nbsp; &nbsp; &nbsp; | original\n",
    "| $(\\x^\\ip + \\lambda \\x^{(\\mathbf{i}')},$ &nbsp; $\\y^\\ip + \\lambda \\y^{(\\mathbf{i}')})$ | Mixup\n"
   ]
  },
  {
   "cell_type": "markdown",
   "metadata": {
    "slideshow": {
     "slide_type": "subslide"
    }
   },
   "source": [
    "The mixing parameter $\\lambda$ is best when it is close to $0$ or $1$\n",
    "- $(0 + \\epsilon)$ or $(1 - \\epsilon)$."
   ]
  },
  {
   "cell_type": "markdown",
   "metadata": {
    "slideshow": {
     "slide_type": "slide"
    }
   },
   "source": [
    "# Conclusion\n",
    "\n",
    "Creating multi-layer networks seems simple.\n",
    "\n",
    "But as with many tasks\n",
    "- The difference between a design that looks good on paper and one that works well in practice\n",
    "- Comes down to managing lots of details !\n",
    "\n",
    "Network design is as much an art as it is a science."
   ]
  },
  {
   "cell_type": "code",
   "execution_count": 6,
   "metadata": {
    "slideshow": {
     "slide_type": "slide"
    }
   },
   "outputs": [
    {
     "name": "stdout",
     "output_type": "stream",
     "text": [
      "Done\n"
     ]
    }
   ],
   "source": [
    "print(\"Done\")"
   ]
  }
 ],
 "metadata": {
  "celltoolbar": "Slideshow",
  "kernelspec": {
   "display_name": "Python 3",
   "language": "python",
   "name": "python3"
  },
  "language_info": {
   "codemirror_mode": {
    "name": "ipython",
    "version": 3
   },
   "file_extension": ".py",
   "mimetype": "text/x-python",
   "name": "python",
   "nbconvert_exporter": "python",
   "pygments_lexer": "ipython3",
   "version": "3.7.4"
  },
  "toc": {
   "base_numbering": 1,
   "nav_menu": {},
   "number_sections": true,
   "sideBar": true,
   "skip_h1_title": false,
   "title_cell": "Table of Contents",
   "title_sidebar": "Contents",
   "toc_cell": false,
   "toc_position": {
    "height": "calc(100% - 180px)",
    "left": "10px",
    "top": "150px",
    "width": "370.547px"
   },
   "toc_section_display": true,
   "toc_window_display": false
  }
 },
 "nbformat": 4,
 "nbformat_minor": 2
}
